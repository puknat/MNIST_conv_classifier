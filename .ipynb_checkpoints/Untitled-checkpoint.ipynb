{
 "cells": [
  {
   "cell_type": "markdown",
   "metadata": {},
   "source": [
    "# Simple MNIST Convolutional Classifier\n",
    "A simple classiefier for later us, specifically for visualization."
   ]
  },
  {
   "cell_type": "code",
   "execution_count": 25,
   "metadata": {},
   "outputs": [],
   "source": [
    "%matplotlib inline\n",
    "import tensorflow as tf\n",
    "import tensorflow.keras as keras\n",
    "import tensorflow.keras.layers as layers\n",
    "import tensorflow.keras.activations as activations\n",
    "from tensorflow.python.keras.models import Model\n",
    "import os\n",
    "import scipy\n",
    "from tqdm import tqdm\n",
    "import numpy as np\n",
    "from matplotlib import pyplot as plt\n",
    "import sklearn\n",
    "from sklearn.metrics import confusion_matrix\n",
    "import itertools"
   ]
  },
  {
   "cell_type": "markdown",
   "metadata": {},
   "source": [
    "## Helper Functions"
   ]
  },
  {
   "cell_type": "markdown",
   "metadata": {},
   "source": [
    "From https://scikit-learn.org/stable/auto_examples/model_selection/plot_confusion_matrix.html. Plot a confusion matrix nicely."
   ]
  },
  {
   "cell_type": "code",
   "execution_count": 33,
   "metadata": {},
   "outputs": [],
   "source": [
    "def plot_confusion_matrix(cm, classes,\n",
    "                          normalize=False,\n",
    "                          title='Confusion matrix',\n",
    "                          cmap=plt.cm.Blues):\n",
    "    \"\"\"\n",
    "    This function prints and plots the confusion matrix.\n",
    "    Normalization can be applied by setting `normalize=True`.\n",
    "    \"\"\"\n",
    "    if normalize:\n",
    "        cm = cm.astype('float') / cm.sum(axis=1)[:, np.newaxis]\n",
    "        print(\"Normalized confusion matrix\")\n",
    "    else:\n",
    "        print('Confusion matrix, without normalization')\n",
    "\n",
    "    print(cm)\n",
    "\n",
    "    plt.imshow(cm, interpolation='nearest', cmap=cmap)\n",
    "    plt.title(title)\n",
    "    plt.colorbar()\n",
    "    tick_marks = np.arange(len(classes))\n",
    "    plt.xticks(tick_marks, classes, rotation=45)\n",
    "    plt.yticks(tick_marks, classes)\n",
    "\n",
    "    fmt = '.2f' if normalize else 'd'\n",
    "    thresh = cm.max() / 2.\n",
    "    for i, j in itertools.product(range(cm.shape[0]), range(cm.shape[1])):\n",
    "        plt.text(j, i, format(cm[i, j], fmt),\n",
    "                 horizontalalignment=\"center\",\n",
    "                 color=\"white\" if cm[i, j] > thresh else \"black\")\n",
    "\n",
    "    plt.ylabel('True label')\n",
    "    plt.xlabel('Predicted label')\n",
    "    plt.tight_layout()"
   ]
  },
  {
   "cell_type": "markdown",
   "metadata": {},
   "source": [
    "## The Dataset\n",
    "Loading the MNIST Dataset."
   ]
  },
  {
   "cell_type": "code",
   "execution_count": 2,
   "metadata": {},
   "outputs": [],
   "source": [
    "from tensorflow.keras.datasets import mnist\n",
    "\n",
    "(x_train, y_train), (x_test, y_test) = mnist.load_data()"
   ]
  },
  {
   "cell_type": "markdown",
   "metadata": {},
   "source": [
    "There are 60,000 images of numbers with values ranging from 0 to 255."
   ]
  },
  {
   "cell_type": "code",
   "execution_count": 3,
   "metadata": {},
   "outputs": [
    {
     "name": "stdout",
     "output_type": "stream",
     "text": [
      "Shape: (60000, 28, 28)\n",
      "Min. Value: 0\n",
      "Max. Value: 255\n"
     ]
    },
    {
     "data": {
      "text/plain": [
       "<matplotlib.image.AxesImage at 0x2aa9828b748>"
      ]
     },
     "execution_count": 3,
     "metadata": {},
     "output_type": "execute_result"
    },
    {
     "data": {
      "image/png": "[encoded data removed]",
      "text/plain": [
       "<Figure size 432x288 with 1 Axes>"
      ]
     },
     "metadata": {
      "needs_background": "light"
     },
     "output_type": "display_data"
    }
   ],
   "source": [
    "print(\"Shape: {}\".format(x_train.shape))\n",
    "print(\"Min. Value: {}\".format(np.min(x_train)))\n",
    "print(\"Max. Value: {}\".format(np.max(x_train)))\n",
    "plt.imshow(x_train[0])"
   ]
  },
  {
   "cell_type": "markdown",
   "metadata": {},
   "source": [
    "Normalizing the dataset to values betweeen -0.5 and 0.5."
   ]
  },
  {
   "cell_type": "code",
   "execution_count": 4,
   "metadata": {},
   "outputs": [
    {
     "name": "stdout",
     "output_type": "stream",
     "text": [
      "Shape: (60000, 28, 28)\n",
      "Min. Value: -0.5\n",
      "Max. Value: 0.5\n"
     ]
    },
    {
     "data": {
      "text/plain": [
       "<matplotlib.image.AxesImage at 0x2aa94df2b00>"
      ]
     },
     "execution_count": 4,
     "metadata": {},
     "output_type": "execute_result"
    },
    {
     "data": {
      "image/png": "[encoded data removed]",
      "text/plain": [
       "<Figure size 432x288 with 1 Axes>"
      ]
     },
     "metadata": {
      "needs_background": "light"
     },
     "output_type": "display_data"
    }
   ],
   "source": [
    "x_train = (x_train - 127.5) / 255\n",
    "x_test = (x_test - 127.5) / 255\n",
    "\n",
    "print(\"Shape: {}\".format(x_train.shape))\n",
    "print(\"Min. Value: {}\".format(np.min(x_train)))\n",
    "print(\"Max. Value: {}\".format(np.max(x_train)))\n",
    "plt.imshow(x_train[0])"
   ]
  },
  {
   "cell_type": "markdown",
   "metadata": {},
   "source": [
    "The label data is not in the right format and has to be converted to one-hot vectors."
   ]
  },
  {
   "cell_type": "code",
   "execution_count": 5,
   "metadata": {},
   "outputs": [
    {
     "name": "stdout",
     "output_type": "stream",
     "text": [
      "(60000,)\n",
      "5\n",
      "0\n",
      "4\n",
      "1\n",
      "9\n",
      "2\n",
      "1\n",
      "3\n",
      "1\n",
      "4\n"
     ]
    }
   ],
   "source": [
    "print(y_train.shape)\n",
    "for i in range(10):\n",
    "    print(y_train[i])"
   ]
  },
  {
   "cell_type": "code",
   "execution_count": 6,
   "metadata": {},
   "outputs": [
    {
     "name": "stdout",
     "output_type": "stream",
     "text": [
      "(60000, 10)\n",
      "[0. 0. 0. 0. 0. 1. 0. 0. 0. 0.]\n",
      "[1. 0. 0. 0. 0. 0. 0. 0. 0. 0.]\n",
      "[0. 0. 0. 0. 1. 0. 0. 0. 0. 0.]\n",
      "[0. 1. 0. 0. 0. 0. 0. 0. 0. 0.]\n",
      "[0. 0. 0. 0. 0. 0. 0. 0. 0. 1.]\n",
      "[0. 0. 1. 0. 0. 0. 0. 0. 0. 0.]\n",
      "[0. 1. 0. 0. 0. 0. 0. 0. 0. 0.]\n",
      "[0. 0. 0. 1. 0. 0. 0. 0. 0. 0.]\n",
      "[0. 1. 0. 0. 0. 0. 0. 0. 0. 0.]\n",
      "[0. 0. 0. 0. 1. 0. 0. 0. 0. 0.]\n"
     ]
    }
   ],
   "source": [
    "y_train = keras.utils.to_categorical(y_train, 10)\n",
    "y_test = keras.utils.to_categorical(y_test, 10)\n",
    "\n",
    "print(y_train.shape)\n",
    "for i in range(10):\n",
    "    print(y_train[i])"
   ]
  },
  {
   "cell_type": "markdown",
   "metadata": {},
   "source": [
    "## The Model\n",
    "Defining some constants for later."
   ]
  },
  {
   "cell_type": "code",
   "execution_count": 7,
   "metadata": {},
   "outputs": [],
   "source": [
    "LEARNING_RATE = 0.001\n",
    "BATCH_SIZE = 100\n",
    "EPOCHS = 10"
   ]
  },
  {
   "cell_type": "markdown",
   "metadata": {},
   "source": [
    "Defining the model architecture."
   ]
  },
  {
   "cell_type": "code",
   "execution_count": 8,
   "metadata": {},
   "outputs": [
    {
     "name": "stdout",
     "output_type": "stream",
     "text": [
      "_________________________________________________________________\n",
      "Layer (type)                 Output Shape              Param #   \n",
      "=================================================================\n",
      "input_1 (InputLayer)         (None, 28, 28)            0         \n",
      "_________________________________________________________________\n",
      "reshape (Reshape)            (None, 28, 28, 1)         0         \n",
      "_________________________________________________________________\n",
      "conv2d (Conv2D)              (None, 28, 28, 8)         80        \n",
      "_________________________________________________________________\n",
      "max_pooling2d (MaxPooling2D) (None, 14, 14, 8)         0         \n",
      "_________________________________________________________________\n",
      "conv2d_1 (Conv2D)            (None, 14, 14, 16)        1168      \n",
      "_________________________________________________________________\n",
      "max_pooling2d_1 (MaxPooling2 (None, 7, 7, 16)          0         \n",
      "_________________________________________________________________\n",
      "flatten (Flatten)            (None, 784)               0         \n",
      "_________________________________________________________________\n",
      "dense (Dense)                (None, 128)               100480    \n",
      "_________________________________________________________________\n",
      "classifier_output (Dense)    (None, 10)                1290      \n",
      "=================================================================\n",
      "Total params: 103,018\n",
      "Trainable params: 103,018\n",
      "Non-trainable params: 0\n",
      "_________________________________________________________________\n"
     ]
    }
   ],
   "source": [
    "input_layer = layers.Input(shape=(28,28))\n",
    "\n",
    "# This reshaping has to be done, to add the channel dimension, which is used and extended by the convolutional layers\n",
    "# It would also be possible to reshape the dataset beforehand\n",
    "x = layers.Reshape(target_shape=(28,28,1))(input_layer)\n",
    "\n",
    "# Padding \"same\" is needed or the ouput would not be of size 28 by 28, but smaller\n",
    "# because the size of the input is not divisible by the kernal size\n",
    "x = layers.Conv2D(filters=8, kernel_size=3, padding=\"same\", activation=\"relu\")(x)\n",
    "x = layers.MaxPool2D(pool_size=(2, 2))(x) # Shape down to (14,14,8)\n",
    "x = layers.Conv2D(filters=16, kernel_size=3, padding=\"same\", activation=\"relu\")(x)\n",
    "x = layers.MaxPool2D(pool_size=(2, 2))(x) # Shape down to (7,7,16)\n",
    "x = layers.Flatten()(x) # Shape down to (784,)\n",
    "x = layers.Dense(128, activation=\"relu\")(x)\n",
    "classifier_output = layers.Dense(10, activation=\"softmax\", name=\"classifier_output\")(x)\n",
    "\n",
    "classifier = Model(input_layer, classifier_output)\n",
    "\n",
    "classifier.summary()"
   ]
  },
  {
   "cell_type": "markdown",
   "metadata": {},
   "source": [
    "Defining the optimizers and loss functions. Using the Adam optimizer and cross entropy loss."
   ]
  },
  {
   "cell_type": "code",
   "execution_count": 9,
   "metadata": {},
   "outputs": [],
   "source": [
    "optimizer = keras.optimizers.Adam(lr=LEARNING_RATE)\n",
    "loss = keras.losses.categorical_crossentropy\n",
    "\n",
    "# Compiling the model, keeping track of the accuracy\n",
    "classifier.compile(optimizer=optimizer, loss=loss, metrics=[\"accuracy\"])"
   ]
  },
  {
   "cell_type": "markdown",
   "metadata": {},
   "source": [
    "## Training"
   ]
  },
  {
   "cell_type": "code",
   "execution_count": 10,
   "metadata": {},
   "outputs": [
    {
     "name": "stdout",
     "output_type": "stream",
     "text": [
      "Train on 60000 samples, validate on 10000 samples\n",
      "Epoch 1/10\n",
      " - 7s - loss: 0.3121 - acc: 0.9129 - val_loss: 0.0995 - val_acc: 0.9682\n",
      "Epoch 2/10\n",
      " - 4s - loss: 0.0787 - acc: 0.9757 - val_loss: 0.0552 - val_acc: 0.9823\n",
      "Epoch 3/10\n",
      " - 4s - loss: 0.0553 - acc: 0.9828 - val_loss: 0.0462 - val_acc: 0.9847\n",
      "Epoch 4/10\n",
      " - 4s - loss: 0.0438 - acc: 0.9860 - val_loss: 0.0439 - val_acc: 0.9856\n",
      "Epoch 5/10\n",
      " - 4s - loss: 0.0358 - acc: 0.9890 - val_loss: 0.0384 - val_acc: 0.9873\n",
      "Epoch 6/10\n",
      " - 4s - loss: 0.0296 - acc: 0.9908 - val_loss: 0.0355 - val_acc: 0.9887\n",
      "Epoch 7/10\n",
      " - 4s - loss: 0.0258 - acc: 0.9915 - val_loss: 0.0326 - val_acc: 0.9891\n",
      "Epoch 8/10\n",
      " - 4s - loss: 0.0224 - acc: 0.9927 - val_loss: 0.0321 - val_acc: 0.9885\n",
      "Epoch 9/10\n",
      " - 4s - loss: 0.0182 - acc: 0.9940 - val_loss: 0.0321 - val_acc: 0.9895\n",
      "Epoch 10/10\n",
      " - 4s - loss: 0.0152 - acc: 0.9949 - val_loss: 0.0303 - val_acc: 0.9909\n"
     ]
    }
   ],
   "source": [
    "history = classifier.fit(x=x_train,\n",
    "                         y=y_train,\n",
    "                         batch_size=BATCH_SIZE,\n",
    "                         validation_data=(x_test, y_test),\n",
    "                         epochs=EPOCHS,\n",
    "                         shuffle=True,\n",
    "                         verbose=2)"
   ]
  },
  {
   "cell_type": "markdown",
   "metadata": {},
   "source": [
    "## Visualizing the Results"
   ]
  },
  {
   "cell_type": "code",
   "execution_count": 11,
   "metadata": {},
   "outputs": [
    {
     "data": {
      "text/plain": [
       "dict_keys(['val_loss', 'val_acc', 'loss', 'acc'])"
      ]
     },
     "execution_count": 11,
     "metadata": {},
     "output_type": "execute_result"
    }
   ],
   "source": [
    "history.history.keys()"
   ]
  },
  {
   "cell_type": "code",
   "execution_count": 12,
   "metadata": {},
   "outputs": [
    {
     "data": {
      "image/png": "[encoded data removed]",
      "text/plain": [
       "<Figure size 432x288 with 1 Axes>"
      ]
     },
     "metadata": {
      "needs_background": "light"
     },
     "output_type": "display_data"
    }
   ],
   "source": [
    "plt.figure()\n",
    "plt.plot(history.history[\"val_acc\"], color=\"blue\")\n",
    "plt.xlabel(\"Epoch\")\n",
    "plt.ylabel(\"Validation Accuracy\")\n",
    "plt.show()"
   ]
  },
  {
   "cell_type": "markdown",
   "metadata": {},
   "source": [
    "Using the model on the test data."
   ]
  },
  {
   "cell_type": "code",
   "execution_count": 17,
   "metadata": {},
   "outputs": [],
   "source": [
    "test_results = classifier.predict(x_test)"
   ]
  },
  {
   "cell_type": "markdown",
   "metadata": {},
   "source": [
    "Converting the output from \"one-hot\"-style vector to class."
   ]
  },
  {
   "cell_type": "code",
   "execution_count": 19,
   "metadata": {},
   "outputs": [
    {
     "name": "stdout",
     "output_type": "stream",
     "text": [
      "Style befor conversion: [1.1935119e-12 6.5811212e-10 1.5900795e-09 1.6279246e-08 2.0886327e-10\n",
      " 2.2214854e-10 7.1950653e-16 9.9999964e-01 2.2655735e-09 3.2400399e-07]\n",
      "\n",
      "Style after conversion: 7\n",
      "\n",
      "True label: 7\n"
     ]
    }
   ],
   "source": [
    "print(\"Style befor conversion: {}\\n\".format(test_results[0]))\n",
    "test_results = np.argmax(test_results, axis=1)\n",
    "print(\"Style after conversion: {}\\n\".format(test_results[0]))\n",
    "print(\"True label: {}\".format(np.argmax(y_test[0])))"
   ]
  },
  {
   "cell_type": "markdown",
   "metadata": {},
   "source": [
    "Calculating and printing the normalized confusion matrix."
   ]
  },
  {
   "cell_type": "code",
   "execution_count": 34,
   "metadata": {},
   "outputs": [
    {
     "name": "stdout",
     "output_type": "stream",
     "text": [
      "Normalized confusion matrix\n",
      "[[9.96e-01 0.00e+00 0.00e+00 1.02e-03 0.00e+00 0.00e+00 3.06e-03 0.00e+00\n",
      "  0.00e+00 0.00e+00]\n",
      " [0.00e+00 9.99e-01 0.00e+00 0.00e+00 0.00e+00 0.00e+00 8.81e-04 0.00e+00\n",
      "  0.00e+00 0.00e+00]\n",
      " [1.94e-03 9.69e-04 9.87e-01 9.69e-04 1.94e-03 0.00e+00 9.69e-04 3.88e-03\n",
      "  1.94e-03 0.00e+00]\n",
      " [0.00e+00 0.00e+00 9.90e-04 9.95e-01 0.00e+00 3.96e-03 0.00e+00 0.00e+00\n",
      "  0.00e+00 0.00e+00]\n",
      " [0.00e+00 0.00e+00 0.00e+00 0.00e+00 9.95e-01 0.00e+00 1.02e-03 0.00e+00\n",
      "  0.00e+00 4.07e-03]\n",
      " [2.24e-03 1.12e-03 0.00e+00 5.61e-03 0.00e+00 9.89e-01 2.24e-03 0.00e+00\n",
      "  0.00e+00 0.00e+00]\n",
      " [3.13e-03 4.18e-03 0.00e+00 1.04e-03 1.04e-03 2.09e-03 9.89e-01 0.00e+00\n",
      "  0.00e+00 0.00e+00]\n",
      " [0.00e+00 3.89e-03 0.00e+00 1.95e-03 0.00e+00 0.00e+00 0.00e+00 9.89e-01\n",
      "  9.73e-04 3.89e-03]\n",
      " [2.05e-03 0.00e+00 1.03e-03 2.05e-03 1.03e-03 2.05e-03 4.11e-03 1.03e-03\n",
      "  9.84e-01 3.08e-03]\n",
      " [0.00e+00 0.00e+00 0.00e+00 9.91e-04 6.94e-03 3.96e-03 0.00e+00 1.98e-03\n",
      "  9.91e-04 9.85e-01]]\n"
     ]
    },
    {
     "data": {
      "image/png": "[encoded data removed]",
      "text/plain": [
       "<Figure size 720x720 with 2 Axes>"
      ]
     },
     "metadata": {
      "needs_background": "light"
     },
     "output_type": "display_data"
    }
   ],
   "source": [
    "plt.figure(figsize=(10,10))\n",
    "np.set_printoptions(precision=2)\n",
    "cnf_matrix = confusion_matrix(np.argmax(y_test, axis=1), test_results)\n",
    "plot_confusion_matrix(cnf_matrix, classes=range(10), title=\"Confusion Matrix\", normalize=True)"
   ]
  },
  {
   "cell_type": "markdown",
   "metadata": {},
   "source": [
    "## Saving the Model"
   ]
  },
  {
   "cell_type": "code",
   "execution_count": 13,
   "metadata": {},
   "outputs": [],
   "source": [
    "classifier.save(\"mnist_conv_class.h5\")"
   ]
  }
 ],
 "metadata": {
  "kernelspec": {
   "display_name": "Python 3",
   "language": "python",
   "name": "python3"
  },
  "language_info": {
   "codemirror_mode": {
    "name": "ipython",
    "version": 3
   },
   "file_extension": ".py",
   "mimetype": "text/x-python",
   "name": "python",
   "nbconvert_exporter": "python",
   "pygments_lexer": "ipython3",
   "version": "3.6.6"
  }
 },
 "nbformat": 4,
 "nbformat_minor": 2
}
